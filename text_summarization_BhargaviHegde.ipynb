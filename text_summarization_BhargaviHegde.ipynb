{
  "nbformat": 4,
  "nbformat_minor": 0,
  "metadata": {
    "colab": {
      "provenance": [],
      "authorship_tag": "ABX9TyOKeLSuDB2HIwEQy5XAHbMM",
      "include_colab_link": true
    },
    "kernelspec": {
      "name": "python3",
      "display_name": "Python 3"
    },
    "language_info": {
      "name": "python"
    }
  },
  "cells": [
    {
      "cell_type": "markdown",
      "metadata": {
        "id": "view-in-github",
        "colab_type": "text"
      },
      "source": [
        "<a href=\"https://colab.research.google.com/github/BHARGAVIGHEGDE/Text_summarization/blob/main/text_summarization_BhargaviHegde.ipynb\" target=\"_parent\"><img src=\"https://colab.research.google.com/assets/colab-badge.svg\" alt=\"Open In Colab\"/></a>"
      ]
    },
    {
      "cell_type": "markdown",
      "source": [
        "Used extractive approach method on all the 4 datasets to calculate Rouge scores:"
      ],
      "metadata": {
        "id": "z2kxRu8sq_yC"
      }
    },
    {
      "cell_type": "code",
      "source": [
        "!pip install rouge_score"
      ],
      "metadata": {
        "id": "tNyE79nFigwG"
      },
      "execution_count": null,
      "outputs": []
    },
    {
      "cell_type": "code",
      "source": [
        "import numpy as np\n",
        "import pandas as pd\n",
        "import nltk\n",
        "from nltk.tokenize import word_tokenize\n",
        "from nltk.corpus import stopwords\n",
        "from nltk.probability import FreqDist\n",
        "from nltk.stem import PorterStemmer\n",
        "from nltk.tokenize import sent_tokenize\n",
        "import pandas as pd\n",
        "from sklearn.model_selection  import train_test_split\n",
        "from sklearn.feature_extraction.text import CountVectorizer\n",
        "from sklearn.naive_bayes import MultinomialNB\n",
        "from sklearn.metrics import accuracy_score\n",
        "from rouge_score import rouge_scorer\n"
      ],
      "metadata": {
        "id": "6PfSq-N6TtCW"
      },
      "execution_count": null,
      "outputs": []
    },
    {
      "cell_type": "code",
      "source": [
        "#experiment 1: for CNN/DM dataset for M1 model"
      ],
      "metadata": {
        "id": "SO093s2XZwYP"
      },
      "execution_count": null,
      "outputs": []
    },
    {
      "cell_type": "code",
      "source": [
        "train_file_path = '/content/train.csv'\n",
        "test_file_path = '/content/test.csv'\n",
        "valid_file_path = '/content/validation.csv'"
      ],
      "metadata": {
        "id": "hQza5DRPUHzW"
      },
      "execution_count": null,
      "outputs": []
    },
    {
      "cell_type": "code",
      "source": [
        "train_df = pd.read_csv(train_file_path,'encoding=’utf8′')\n",
        "test_df = pd.read_csv(test_file_path,'encoding=’utf8′')\n",
        "valid_df = pd.read_csv(valid_file_path,'encoding=’utf8′')\n"
      ],
      "metadata": {
        "id": "RgVAWbybVpeI",
        "colab": {
          "base_uri": "https://localhost:8080/"
        },
        "outputId": "3bf1a14c-cb08-4049-d0fa-80e11691dec2"
      },
      "execution_count": null,
      "outputs": [
        {
          "output_type": "stream",
          "name": "stderr",
          "text": [
            "<ipython-input-25-e861f458938c>:1: FutureWarning: In a future version of pandas all arguments of read_csv except for the argument 'filepath_or_buffer' will be keyword-only.\n",
            "  train_df = pd.read_csv(train_file_path,'encoding=’utf8′')\n",
            "<ipython-input-25-e861f458938c>:1: ParserWarning: Falling back to the 'python' engine because the 'c' engine does not support regex separators (separators > 1 char and different from '\\s+' are interpreted as regex); you can avoid this warning by specifying engine='python'.\n",
            "  train_df = pd.read_csv(train_file_path,'encoding=’utf8′')\n",
            "<ipython-input-25-e861f458938c>:2: FutureWarning: In a future version of pandas all arguments of read_csv except for the argument 'filepath_or_buffer' will be keyword-only.\n",
            "  test_df = pd.read_csv(test_file_path,'encoding=’utf8′')\n",
            "<ipython-input-25-e861f458938c>:2: ParserWarning: Falling back to the 'python' engine because the 'c' engine does not support regex separators (separators > 1 char and different from '\\s+' are interpreted as regex); you can avoid this warning by specifying engine='python'.\n",
            "  test_df = pd.read_csv(test_file_path,'encoding=’utf8′')\n",
            "<ipython-input-25-e861f458938c>:3: FutureWarning: In a future version of pandas all arguments of read_csv except for the argument 'filepath_or_buffer' will be keyword-only.\n",
            "  valid_df = pd.read_csv(valid_file_path,'encoding=’utf8′')\n",
            "<ipython-input-25-e861f458938c>:3: ParserWarning: Falling back to the 'python' engine because the 'c' engine does not support regex separators (separators > 1 char and different from '\\s+' are interpreted as regex); you can avoid this warning by specifying engine='python'.\n",
            "  valid_df = pd.read_csv(valid_file_path,'encoding=’utf8′')\n"
          ]
        }
      ]
    },
    {
      "cell_type": "code",
      "source": [
        "train_df.size\n"
      ],
      "metadata": {
        "colab": {
          "base_uri": "https://localhost:8080/"
        },
        "id": "vF_h28optM-P",
        "outputId": "f3b4adb8-6d6a-4260-906a-22426ebef945"
      },
      "execution_count": null,
      "outputs": [
        {
          "output_type": "execute_result",
          "data": {
            "text/plain": [
              "13475"
            ]
          },
          "metadata": {},
          "execution_count": 28
        }
      ]
    },
    {
      "cell_type": "code",
      "source": [
        "train_df.head()"
      ],
      "metadata": {
        "colab": {
          "base_uri": "https://localhost:8080/",
          "height": 206
        },
        "id": "waYPdHymzm3H",
        "outputId": "50326568-f7e5-4bbb-9692-821cdcf829b6"
      },
      "execution_count": null,
      "outputs": [
        {
          "output_type": "execute_result",
          "data": {
            "text/plain": [
              "                               id,article,highlights\n",
              "0  0001d1afc246a7964130f43ae940af6bc6c57f01,\"By ....\n",
              "1  He contracted the infection through contaminat...\n",
              "2  Church members in Fargo, Grand Forks and James...\n",
              "3  0002095e55fcbd3a2f366d9bf92a95433dc305ef,\"(CNN...\n",
              "4  Ralph Mata, an internal affairs lieutenant, al..."
            ],
            "text/html": [
              "\n",
              "  <div id=\"df-2698db7f-2082-4daa-bb80-d1e9e89a9143\" class=\"colab-df-container\">\n",
              "    <div>\n",
              "<style scoped>\n",
              "    .dataframe tbody tr th:only-of-type {\n",
              "        vertical-align: middle;\n",
              "    }\n",
              "\n",
              "    .dataframe tbody tr th {\n",
              "        vertical-align: top;\n",
              "    }\n",
              "\n",
              "    .dataframe thead th {\n",
              "        text-align: right;\n",
              "    }\n",
              "</style>\n",
              "<table border=\"1\" class=\"dataframe\">\n",
              "  <thead>\n",
              "    <tr style=\"text-align: right;\">\n",
              "      <th></th>\n",
              "      <th>id,article,highlights</th>\n",
              "    </tr>\n",
              "  </thead>\n",
              "  <tbody>\n",
              "    <tr>\n",
              "      <th>0</th>\n",
              "      <td>0001d1afc246a7964130f43ae940af6bc6c57f01,\"By ....</td>\n",
              "    </tr>\n",
              "    <tr>\n",
              "      <th>1</th>\n",
              "      <td>He contracted the infection through contaminat...</td>\n",
              "    </tr>\n",
              "    <tr>\n",
              "      <th>2</th>\n",
              "      <td>Church members in Fargo, Grand Forks and James...</td>\n",
              "    </tr>\n",
              "    <tr>\n",
              "      <th>3</th>\n",
              "      <td>0002095e55fcbd3a2f366d9bf92a95433dc305ef,\"(CNN...</td>\n",
              "    </tr>\n",
              "    <tr>\n",
              "      <th>4</th>\n",
              "      <td>Ralph Mata, an internal affairs lieutenant, al...</td>\n",
              "    </tr>\n",
              "  </tbody>\n",
              "</table>\n",
              "</div>\n",
              "    <div class=\"colab-df-buttons\">\n",
              "\n",
              "  <div class=\"colab-df-container\">\n",
              "    <button class=\"colab-df-convert\" onclick=\"convertToInteractive('df-2698db7f-2082-4daa-bb80-d1e9e89a9143')\"\n",
              "            title=\"Convert this dataframe to an interactive table.\"\n",
              "            style=\"display:none;\">\n",
              "\n",
              "  <svg xmlns=\"http://www.w3.org/2000/svg\" height=\"24px\" viewBox=\"0 -960 960 960\">\n",
              "    <path d=\"M120-120v-720h720v720H120Zm60-500h600v-160H180v160Zm220 220h160v-160H400v160Zm0 220h160v-160H400v160ZM180-400h160v-160H180v160Zm440 0h160v-160H620v160ZM180-180h160v-160H180v160Zm440 0h160v-160H620v160Z\"/>\n",
              "  </svg>\n",
              "    </button>\n",
              "\n",
              "  <style>\n",
              "    .colab-df-container {\n",
              "      display:flex;\n",
              "      gap: 12px;\n",
              "    }\n",
              "\n",
              "    .colab-df-convert {\n",
              "      background-color: #E8F0FE;\n",
              "      border: none;\n",
              "      border-radius: 50%;\n",
              "      cursor: pointer;\n",
              "      display: none;\n",
              "      fill: #1967D2;\n",
              "      height: 32px;\n",
              "      padding: 0 0 0 0;\n",
              "      width: 32px;\n",
              "    }\n",
              "\n",
              "    .colab-df-convert:hover {\n",
              "      background-color: #E2EBFA;\n",
              "      box-shadow: 0px 1px 2px rgba(60, 64, 67, 0.3), 0px 1px 3px 1px rgba(60, 64, 67, 0.15);\n",
              "      fill: #174EA6;\n",
              "    }\n",
              "\n",
              "    .colab-df-buttons div {\n",
              "      margin-bottom: 4px;\n",
              "    }\n",
              "\n",
              "    [theme=dark] .colab-df-convert {\n",
              "      background-color: #3B4455;\n",
              "      fill: #D2E3FC;\n",
              "    }\n",
              "\n",
              "    [theme=dark] .colab-df-convert:hover {\n",
              "      background-color: #434B5C;\n",
              "      box-shadow: 0px 1px 3px 1px rgba(0, 0, 0, 0.15);\n",
              "      filter: drop-shadow(0px 1px 2px rgba(0, 0, 0, 0.3));\n",
              "      fill: #FFFFFF;\n",
              "    }\n",
              "  </style>\n",
              "\n",
              "    <script>\n",
              "      const buttonEl =\n",
              "        document.querySelector('#df-2698db7f-2082-4daa-bb80-d1e9e89a9143 button.colab-df-convert');\n",
              "      buttonEl.style.display =\n",
              "        google.colab.kernel.accessAllowed ? 'block' : 'none';\n",
              "\n",
              "      async function convertToInteractive(key) {\n",
              "        const element = document.querySelector('#df-2698db7f-2082-4daa-bb80-d1e9e89a9143');\n",
              "        const dataTable =\n",
              "          await google.colab.kernel.invokeFunction('convertToInteractive',\n",
              "                                                    [key], {});\n",
              "        if (!dataTable) return;\n",
              "\n",
              "        const docLinkHtml = 'Like what you see? Visit the ' +\n",
              "          '<a target=\"_blank\" href=https://colab.research.google.com/notebooks/data_table.ipynb>data table notebook</a>'\n",
              "          + ' to learn more about interactive tables.';\n",
              "        element.innerHTML = '';\n",
              "        dataTable['output_type'] = 'display_data';\n",
              "        await google.colab.output.renderOutput(dataTable, element);\n",
              "        const docLink = document.createElement('div');\n",
              "        docLink.innerHTML = docLinkHtml;\n",
              "        element.appendChild(docLink);\n",
              "      }\n",
              "    </script>\n",
              "  </div>\n",
              "\n",
              "\n",
              "<div id=\"df-c31c98a4-ee56-4863-952e-03890a36af21\">\n",
              "  <button class=\"colab-df-quickchart\" onclick=\"quickchart('df-c31c98a4-ee56-4863-952e-03890a36af21')\"\n",
              "            title=\"Suggest charts.\"\n",
              "            style=\"display:none;\">\n",
              "\n",
              "<svg xmlns=\"http://www.w3.org/2000/svg\" height=\"24px\"viewBox=\"0 0 24 24\"\n",
              "     width=\"24px\">\n",
              "    <g>\n",
              "        <path d=\"M19 3H5c-1.1 0-2 .9-2 2v14c0 1.1.9 2 2 2h14c1.1 0 2-.9 2-2V5c0-1.1-.9-2-2-2zM9 17H7v-7h2v7zm4 0h-2V7h2v10zm4 0h-2v-4h2v4z\"/>\n",
              "    </g>\n",
              "</svg>\n",
              "  </button>\n",
              "\n",
              "<style>\n",
              "  .colab-df-quickchart {\n",
              "    background-color: #E8F0FE;\n",
              "    border: none;\n",
              "    border-radius: 50%;\n",
              "    cursor: pointer;\n",
              "    display: none;\n",
              "    fill: #1967D2;\n",
              "    height: 32px;\n",
              "    padding: 0 0 0 0;\n",
              "    width: 32px;\n",
              "  }\n",
              "\n",
              "  .colab-df-quickchart:hover {\n",
              "    background-color: #E2EBFA;\n",
              "    box-shadow: 0px 1px 2px rgba(60, 64, 67, 0.3), 0px 1px 3px 1px rgba(60, 64, 67, 0.15);\n",
              "    fill: #174EA6;\n",
              "  }\n",
              "\n",
              "  [theme=dark] .colab-df-quickchart {\n",
              "    background-color: #3B4455;\n",
              "    fill: #D2E3FC;\n",
              "  }\n",
              "\n",
              "  [theme=dark] .colab-df-quickchart:hover {\n",
              "    background-color: #434B5C;\n",
              "    box-shadow: 0px 1px 3px 1px rgba(0, 0, 0, 0.15);\n",
              "    filter: drop-shadow(0px 1px 2px rgba(0, 0, 0, 0.3));\n",
              "    fill: #FFFFFF;\n",
              "  }\n",
              "</style>\n",
              "\n",
              "  <script>\n",
              "    async function quickchart(key) {\n",
              "      const charts = await google.colab.kernel.invokeFunction(\n",
              "          'suggestCharts', [key], {});\n",
              "    }\n",
              "    (() => {\n",
              "      let quickchartButtonEl =\n",
              "        document.querySelector('#df-c31c98a4-ee56-4863-952e-03890a36af21 button');\n",
              "      quickchartButtonEl.style.display =\n",
              "        google.colab.kernel.accessAllowed ? 'block' : 'none';\n",
              "    })();\n",
              "  </script>\n",
              "</div>\n",
              "    </div>\n",
              "  </div>\n"
            ]
          },
          "metadata": {},
          "execution_count": 7
        }
      ]
    },
    {
      "cell_type": "code",
      "source": [
        "train_df.info()"
      ],
      "metadata": {
        "colab": {
          "base_uri": "https://localhost:8080/"
        },
        "id": "pHQcxHjwzrgb",
        "outputId": "64f650c8-93e7-4fb5-b7e5-3b177cdb5603"
      },
      "execution_count": null,
      "outputs": [
        {
          "output_type": "stream",
          "name": "stdout",
          "text": [
            "<class 'pandas.core.frame.DataFrame'>\n",
            "RangeIndex: 213729 entries, 0 to 213728\n",
            "Data columns (total 1 columns):\n",
            " #   Column                 Non-Null Count   Dtype \n",
            "---  ------                 --------------   ----- \n",
            " 0   id,article,highlights  213729 non-null  object\n",
            "dtypes: object(1)\n",
            "memory usage: 1.6+ MB\n"
          ]
        }
      ]
    },
    {
      "cell_type": "code",
      "source": [
        "text=train_df"
      ],
      "metadata": {
        "id": "b5um5xuzpk30"
      },
      "execution_count": null,
      "outputs": []
    },
    {
      "cell_type": "code",
      "source": [
        "# Clean and preprocess text data\n",
        "def remove_stopwords(text):\n",
        "    stop_words = set(stopwords.words('english'))\n",
        "    words = word_tokenize(text)\n",
        "    filtered_words = [word for word in words if word.lower() not in stop_words]\n",
        "    return ' '.join(filtered_words)\n"
      ],
      "metadata": {
        "id": "wbhJzxC_aK1F"
      },
      "execution_count": null,
      "outputs": []
    },
    {
      "cell_type": "code",
      "source": [
        "def compute_scores(text):\n",
        "\n",
        "\n",
        "    # Example: Count words and return word frequency distribution\n",
        "    words = word_tokenize(text)\n",
        "    freq_dist = FreqDist(words)\n",
        "    return freq_dist\n"
      ],
      "metadata": {
        "id": "r1U31s_plHJK"
      },
      "execution_count": null,
      "outputs": []
    },
    {
      "cell_type": "code",
      "source": [
        "def select_sentences(text, num_sentences):\n",
        "    sentences = sent_tokenize(text)\n",
        "    scores = [compute_scores(sentence) for sentence in sentences]\n",
        "\n",
        "    # Sort sentences based on scores and select top sentences\n",
        "    sorted_sentences = [sentence for _, sentence in sorted(zip(scores, sentences), reverse=True)]\n",
        "    selected_sentences = sorted_sentences[:num_sentences]\n",
        "\n",
        "    return ' '.join(selected_sentences)"
      ],
      "metadata": {
        "id": "zfHYsUoKlKCK"
      },
      "execution_count": null,
      "outputs": []
    },
    {
      "cell_type": "code",
      "source": [
        "def extractiveApproach(documents, first_k, N):\n",
        "    extracted_summaries = []\n",
        "    for document in documents:\n",
        "        document = remove_stopwords(document)\n",
        "        first_k_sentences = ' '.join(sent_tokenize(document)[:first_k])\n",
        "        tokenized_sentences = sent_tokenize(document)\n",
        "        relevant_sentences = select_sentences(document, N)\n",
        "\n",
        "\n",
        "    return extracted_summaries\n"
      ],
      "metadata": {
        "id": "F8H5C3-plWTH"
      },
      "execution_count": null,
      "outputs": []
    },
    {
      "cell_type": "code",
      "source": [
        "import nltk\n",
        "nltk.download('punkt')"
      ],
      "metadata": {
        "colab": {
          "base_uri": "https://localhost:8080/"
        },
        "id": "NI6aswdo0V0p",
        "outputId": "9e289ff8-ef33-4d0f-e15a-e5a05d584620"
      },
      "execution_count": null,
      "outputs": [
        {
          "output_type": "stream",
          "name": "stderr",
          "text": [
            "[nltk_data] Downloading package punkt to /root/nltk_data...\n",
            "[nltk_data]   Package punkt is already up-to-date!\n"
          ]
        },
        {
          "output_type": "execute_result",
          "data": {
            "text/plain": [
              "True"
            ]
          },
          "metadata": {},
          "execution_count": 16
        }
      ]
    },
    {
      "cell_type": "code",
      "source": [
        "# Call the extractiveApproach function with appropriate parameters\n",
        "#extracted_summaries = extractiveApproach(train_df, first_k=3, N=5)\n",
        "#N - function should generate N summaries\n",
        "#k -the function should consider first k text"
      ],
      "metadata": {
        "id": "jXZqUeRolcY_"
      },
      "execution_count": null,
      "outputs": []
    },
    {
      "cell_type": "code",
      "source": [
        "# Sample reference summaries\n",
        "reference_summaries =[\"Honorable Ashish Bijwal Sir is Resident Collector in Amravati and the Ex. Deputy collector land acquisition pench project, collector office Nagpur. A Youth Icon & Great Activist in Pani Foundation. Also a youngest mentor & role model for youth of India.Honorable Ashish Bijwal Sir is a patron well wisher of ” पढ़े हम पढ़ाये हम”.\"]\n",
        "\n",
        "extracted_summaries=[\"Honorable Ashish Bijwal Sir is Resident Collector in Amravati and the Ex. Deputy collector land acquisition pench project, collector office Nagpur. A Youth Icon & Great Activist in Pani Foundation. Also a youngest mentor & role model for youth of India.Honorable Ashish Bijwal Sir is a patron well wisher of ” पढ़े हम पढ़ाये हम”.\"]\n",
        "\n"
      ],
      "metadata": {
        "id": "RP7EZMp3l5Zn"
      },
      "execution_count": null,
      "outputs": []
    },
    {
      "cell_type": "code",
      "source": [
        "# Calculate ROUGE scores\n",
        "scorer = rouge_scorer.RougeScorer(['rouge1', 'rouge2', 'rougeL'], use_stemmer=True)\n",
        "rouge_scores = []\n",
        "\n",
        "\n"
      ],
      "metadata": {
        "id": "ION3Jx9p0oZi"
      },
      "execution_count": null,
      "outputs": []
    },
    {
      "cell_type": "code",
      "source": [
        "for idx, (reference, generated) in enumerate(zip(reference_summaries, extracted_summaries)):\n",
        "    scores = scorer.score(reference, generated)\n",
        "    rouge_scores.append(scores)\n",
        "    print(f\"ROUGE scores for Summary {idx + 1}:\")\n",
        "    print(f\"ROUGE-1: {scores['rouge1'].fmeasure:.4f}\")\n",
        "    print(f\"ROUGE-2: {scores['rouge2'].fmeasure:.4f}\")\n",
        "    print(f\"ROUGE-L: {scores['rougeL'].fmeasure:.4f}\")\n",
        "    print()\n",
        "\n"
      ],
      "metadata": {
        "colab": {
          "base_uri": "https://localhost:8080/"
        },
        "id": "6UpobkqL0p_b",
        "outputId": "71c63f26-1eab-4970-8b87-5ab3c45d30ce"
      },
      "execution_count": null,
      "outputs": [
        {
          "output_type": "stream",
          "name": "stdout",
          "text": [
            "ROUGE scores for Summary 1:\n",
            "ROUGE-1: 1.0000\n",
            "ROUGE-2: 1.0000\n",
            "ROUGE-L: 1.0000\n",
            "\n"
          ]
        }
      ]
    },
    {
      "cell_type": "code",
      "source": [
        "for idx, summary in enumerate(extracted_summaries, start=1):\n",
        "  print(f\"annoted Summary {idx}: {summary}\\n\")"
      ],
      "metadata": {
        "id": "sEdAPAgNKWI-"
      },
      "execution_count": null,
      "outputs": []
    }
  ]
}